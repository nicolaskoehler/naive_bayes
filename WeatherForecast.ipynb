{
 "cells": [
  {
   "cell_type": "code",
   "execution_count": null,
   "id": "6b2d4220-426b-4fd2-a2f2-af340ea89d82",
   "metadata": {},
   "outputs": [],
   "source": [
    "# reading input data\n",
    "import numpy as np\n",
    "import pandas as pd\n",
    "\n",
    "df=pd.read_csv('data/data_weather.csv')\n",
    "df"
   ]
  },
  {
   "cell_type": "code",
   "execution_count": null,
   "id": "14acfa58-bcbb-4f50-b1c6-181c48db3d7a",
   "metadata": {},
   "outputs": [],
   "source": [
    "# displaying input data (and labels)\n",
    "import matplotlib.pyplot as plt\n",
    "\n",
    "fig, ax = plt.subplots(2, 2, sharex='col', sharey='row')\n",
    "ax = ax.ravel()\n",
    "fig.suptitle('Features')\n",
    "for i in range(1,5):\n",
    "    ax[i-1].hist(df.iloc[:,i], bins=20)\n",
    "    ax[i-1].set_title(df.columns[i])\n",
    "plt.figure()\n",
    "ax=df['weather'].hist()\n",
    "ax.set_title('occuring classes')"
   ]
  },
  {
   "cell_type": "code",
   "execution_count": null,
   "id": "328eec76-efe9-4bd8-8f2a-bd02d31c0f7f",
   "metadata": {},
   "outputs": [],
   "source": [
    "# parsing labels into [0,1, ...]; defining X and c\n",
    "from sklearn.preprocessing import LabelEncoder\n",
    "\n",
    "le = LabelEncoder()\n",
    "c = le.fit_transform(df['weather'])\n",
    "X = df[['precipitation', 'temp_max', 'temp_min', 'wind']].to_numpy()"
   ]
  },
  {
   "cell_type": "markdown",
   "id": "49e41243-ab2a-4211-8ed6-24cb88e65bde",
   "metadata": {},
   "source": [
    "\n",
    "\n",
    "Naive Bayes classifier: $\\arg \\max_{1\\leq i\\leq n} \\left\\{ \\log \\left( \\prod_{k=1}^m P(x^{(k)}|c_i) \\cdot P(c_i) \\right) \\right\\} = \\arg \\max_{1\\leq i\\leq n} \\left\\{ \\sum_{k=1}^m \\log \\left(  P(x^{(k)}|c_i) \\right) + \\log \\left( P(c_i) \\right) \\right\\}$ \n",
    "\n",
    "with $P(x^{(k)}|c_i)=\\frac{1}{\\sqrt{2\\pi\\sigma_{c_i}^2}}\\cdot \\exp{\\left( -\\frac{(x^{(k)}-\\mu_{c_i})^2}{2\\sigma_{c_i}^2} \\right) }$\n",
    "\n"
   ]
  },
  {
   "cell_type": "code",
   "execution_count": null,
   "id": "71101adc-b50b-42b4-912c-6b2a6ab57ca0",
   "metadata": {},
   "outputs": [],
   "source": [
    "# implement Naive Bayes for continuous variables\n",
    "class NaiveBayes:\n",
    "    # training \n",
    "    def fit(self, X, c):\n",
    "        self.n_samples, self.n_features = X.shape\n",
    "        self._classes = np.unique(c)\n",
    "        self.n_classes = len(self._classes)\n",
    "        self._mean = np.zeros((self.n_classes, self.n_features))\n",
    "        self._var = np.zeros((self.n_classes, self.n_features))\n",
    "        self._priors = np.zeros(self.n_classes)\n",
    "        self.var_smoothing = 1e-09\n",
    "        for idx, c_i in enumerate(self._classes):\n",
    "            X_c_i = X[c==c_i]\n",
    "            self._mean[idx,:] = X_c_i.mean(axis=0)\n",
    "            self._var[idx,:] = X_c_i.var(axis=0)\n",
    "            if np.any(self._var[idx,:] == 0):\n",
    "                for iFeat in range(self.n_features):\n",
    "                    if self._var[idx,iFeat] == 0:\n",
    "                        self._var[idx,iFeat] = self.var_smoothing # = var_smoothing in sklearn\n",
    "            self._priors[idx] = np.log(X_c_i.shape[0] / float(self.n_samples))\n",
    "    # application\n",
    "    def predict(self, X):\n",
    "        predictions = np.zeros(X.shape[0])\n",
    "        for idx, x in enumerate(X):\n",
    "            posteriors = np.zeros(self.n_classes)\n",
    "            for idx_c, c_i in enumerate(self._classes):\n",
    "                prior = self._priors[idx_c]\n",
    "                mean = self._mean[idx_c]\n",
    "                var = self._var[idx_c]\n",
    "                gauss = np.exp(-((x-mean)**2) / (2*var)) / np.sqrt(2* np.pi * var)\n",
    "                if np.any(gauss == 0.):\n",
    "                    for iFeat in range(self.n_features):\n",
    "                        if gauss[iFeat] == 0.:\n",
    "                            gauss[iFeat] = self.var_smoothing\n",
    "                posteriors[idx_c] = np.sum(np.log(gauss))+prior\n",
    "            predictions[idx] = self._classes[np.argmax(posteriors)]\n",
    "        return predictions"
   ]
  },
  {
   "cell_type": "code",
   "execution_count": null,
   "id": "8dda5c5c-eed8-4a6b-8068-cb635504a290",
   "metadata": {},
   "outputs": [],
   "source": [
    "# split input data in training and testing data\n",
    "from sklearn.model_selection import train_test_split\n",
    "X_train, X_test, c_train, c_test = train_test_split(X,c, test_size=0.2, random_state=123)"
   ]
  },
  {
   "cell_type": "code",
   "execution_count": null,
   "id": "2565631b-0e83-41d3-81f7-1dd9d5ce5cb3",
   "metadata": {},
   "outputs": [],
   "source": [
    "# training and testing Naive Bayes\n",
    "nb = NaiveBayes()\n",
    "nb.fit(X_train, c_train)\n",
    "predictions=nb.predict(X_test)"
   ]
  },
  {
   "cell_type": "code",
   "execution_count": null,
   "id": "757b1322-eba8-449c-ad83-0486fab8ddbd",
   "metadata": {},
   "outputs": [],
   "source": [
    "# implementing the same in scikit learn\n",
    "from sklearn.naive_bayes import GaussianNB\n",
    "\n",
    "nb = GaussianNB()\n",
    "nb.fit(X_train, c_train)\n",
    "predictions_sk=nb.predict(X_test)"
   ]
  },
  {
   "cell_type": "code",
   "execution_count": null,
   "id": "64f1634b-5f67-47dd-8b3d-35c67b2a92a0",
   "metadata": {},
   "outputs": [],
   "source": [
    "# comparing accuracy\n",
    "def accuracy(y_true, y_pred):\n",
    "    return np.sum(y_true==y_pred)/len(y_true)\n",
    "\n",
    "print(\"accuracy = \", accuracy(c_test, predictions))\n",
    "print(\"accuracy (scikit learn) = \", accuracy(c_test, predictions_sk))"
   ]
  },
  {
   "cell_type": "code",
   "execution_count": null,
   "id": "258ec577-57ed-4c1b-b8c2-47bd3f9e087a",
   "metadata": {},
   "outputs": [],
   "source": [
    "# comparing confusion matrix\n",
    "from sklearn.metrics import confusion_matrix\n",
    "\n",
    "print('confusion matrix:')\n",
    "print(confusion_matrix(c_test, predictions))\n",
    "print('confusion matrix (scikit learn):')\n",
    "print(confusion_matrix(c_test, predictions_sk))"
   ]
  },
  {
   "cell_type": "code",
   "execution_count": null,
   "id": "e4537a31-e618-4940-9bd1-ddb22803c9b8",
   "metadata": {},
   "outputs": [],
   "source": []
  }
 ],
 "metadata": {
  "kernelspec": {
   "display_name": "sklearn-env",
   "language": "python",
   "name": "sklearn-env"
  },
  "language_info": {
   "codemirror_mode": {
    "name": "ipython",
    "version": 3
   },
   "file_extension": ".py",
   "mimetype": "text/x-python",
   "name": "python",
   "nbconvert_exporter": "python",
   "pygments_lexer": "ipython3",
   "version": "3.13.3"
  }
 },
 "nbformat": 4,
 "nbformat_minor": 5
}
